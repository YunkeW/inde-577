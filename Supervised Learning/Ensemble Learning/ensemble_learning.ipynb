{
 "cells": [
  {
   "cell_type": "markdown",
   "metadata": {},
   "source": [
    "# Ensemble Learning \n",
    "\n",
    "Ensemble learning combines multiple models to improve prediction accuracy and robustness over single-model approaches. This technique leverages the diversity among models to overcome limitations like overfitting and bias.\n",
    "\n",
    "## Key Techniques\n",
    "- **Bagging**: Reduces variance by averaging predictions from models trained on different subsets.\n",
    "- **Boosting**: Focuses on difficult cases by sequentially fitting models to weighted versions of the data.\n",
    "- **Stacking**: Aggregates predictions from multiple models using a meta-learner.\n",
    "\n",
    "## Advantages\n",
    "- Enhances performance on complex tasks like image recognition and fraud detection.\n",
    "- Balances bias and variance, reducing errors from individual models.\n",
    "\n",
    "## Popular Algorithms\n",
    "- **Random Forest**\n",
    "- **AdaBoost**\n",
    "- **Gradient Boosting Machines (GBM)**\n",
    "- **XGBoost**\n",
    "\n",
    "Ensemble methods are widely used due to their adaptability across different domains and superior prediction capabilities.\n"
   ]
  },
  {
   "cell_type": "markdown",
   "metadata": {},
   "source": [
    "# Ensemble Learning for Bank Marketing\n",
    "\n",
    "This notebook presents an ensemble learning approach applied to a bank marketing dataset. Ensemble methods combine multiple machine learning models to improve the overall predictive performance compared to a single model. We'll explore various ensemble techniques such as Bagging, Boosting, and Stacking to predict whether a customer will subscribe to a term deposit."
   ]
  },
  {
   "cell_type": "code",
   "execution_count": 13,
   "metadata": {},
   "outputs": [],
   "source": [
    "import pandas as pd\n",
    "import numpy as np\n",
    "from sklearn.model_selection import train_test_split\n",
    "from sklearn.preprocessing import StandardScaler, OneHotEncoder\n",
    "from sklearn.compose import ColumnTransformer\n",
    "from sklearn.ensemble import RandomForestClassifier, AdaBoostClassifier, GradientBoostingClassifier, StackingClassifier\n",
    "from sklearn.linear_model import LogisticRegression\n",
    "from sklearn.tree import DecisionTreeClassifier\n",
    "from sklearn.metrics import classification_report, confusion_matrix, accuracy_score\n",
    "from sklearn.pipeline import Pipeline\n"
   ]
  },
  {
   "cell_type": "markdown",
   "metadata": {},
   "source": [
    "## Load and Explore the Dataset\n",
    "\n",
    "First, we load the dataset and perform a preliminary analysis to understand its structure."
   ]
  },
  {
   "cell_type": "code",
   "execution_count": 20,
   "metadata": {},
   "outputs": [
    {
     "name": "stdout",
     "output_type": "stream",
     "text": [
      "   age           job  marital  education default  balance housing loan  \\\n",
      "0   58    management  married   tertiary      no     2143     yes   no   \n",
      "1   44    technician   single  secondary      no       29     yes   no   \n",
      "2   33  entrepreneur  married  secondary      no        2     yes  yes   \n",
      "3   47   blue-collar  married    unknown      no     1506     yes   no   \n",
      "4   33       unknown   single    unknown      no        1      no   no   \n",
      "\n",
      "   contact  day month  duration  campaign  pdays  previous poutcome Target  \n",
      "0  unknown    5   may       261         1     -1         0  unknown     no  \n",
      "1  unknown    5   may       151         1     -1         0  unknown     no  \n",
      "2  unknown    5   may        76         1     -1         0  unknown     no  \n",
      "3  unknown    5   may        92         1     -1         0  unknown     no  \n",
      "4  unknown    5   may       198         1     -1         0  unknown     no  \n"
     ]
    }
   ],
   "source": [
    "# Load the dataset\n",
    "data = pd.read_csv('C:/Users/78641/Downloads/bank-full.csv')\n",
    "\n",
    "# Display the first few rows\n",
    "print(data.head())\n"
   ]
  },
  {
   "cell_type": "code",
   "execution_count": 21,
   "metadata": {},
   "outputs": [
    {
     "name": "stdout",
     "output_type": "stream",
     "text": [
      "                age        balance           day      duration      campaign  \\\n",
      "count  45211.000000   45211.000000  45211.000000  45211.000000  45211.000000   \n",
      "mean      40.936210    1362.272058     15.806419    258.163080      2.763841   \n",
      "std       10.618762    3044.765829      8.322476    257.527812      3.098021   \n",
      "min       18.000000   -8019.000000      1.000000      0.000000      1.000000   \n",
      "25%       33.000000      72.000000      8.000000    103.000000      1.000000   \n",
      "50%       39.000000     448.000000     16.000000    180.000000      2.000000   \n",
      "75%       48.000000    1428.000000     21.000000    319.000000      3.000000   \n",
      "max       95.000000  102127.000000     31.000000   4918.000000     63.000000   \n",
      "\n",
      "              pdays      previous  \n",
      "count  45211.000000  45211.000000  \n",
      "mean      40.197828      0.580323  \n",
      "std      100.128746      2.303441  \n",
      "min       -1.000000      0.000000  \n",
      "25%       -1.000000      0.000000  \n",
      "50%       -1.000000      0.000000  \n",
      "75%       -1.000000      0.000000  \n",
      "max      871.000000    275.000000  \n"
     ]
    }
   ],
   "source": [
    "# Summary of the dataset\n",
    "print(data.describe())"
   ]
  },
  {
   "cell_type": "code",
   "execution_count": 22,
   "metadata": {},
   "outputs": [
    {
     "name": "stdout",
     "output_type": "stream",
     "text": [
      "Index(['age', 'job', 'marital', 'education', 'default', 'balance', 'housing',\n",
      "       'loan', 'contact', 'day', 'month', 'duration', 'campaign', 'pdays',\n",
      "       'previous', 'poutcome', 'Target'],\n",
      "      dtype='object')\n"
     ]
    }
   ],
   "source": [
    "# Display the columns for sanity check\n",
    "print(data.columns)"
   ]
  },
  {
   "cell_type": "markdown",
   "metadata": {},
   "source": [
    "## Data Preprocessing\n",
    "\n",
    "Data preprocessing is necessary to convert categorical data into a format that can be provided to machine learning algorithms.\n"
   ]
  },
  {
   "cell_type": "code",
   "execution_count": 23,
   "metadata": {},
   "outputs": [],
   "source": [
    "# Define the feature matrix X and target vector y\n",
    "X = data.iloc[:, :-1]  # Assuming the last column is the target variable\n",
    "y = data.iloc[:, -1].apply(lambda x: 1 if x.lower() == 'yes' else 0)\n",
    "\n",
    "# Splitting into training and testing sets\n",
    "X_train, X_test, y_train, y_test = train_test_split(X, y, test_size=0.2, random_state=42)\n",
    "\n",
    "# Preprocessing pipelines for both numerical and categorical data\n",
    "numerical_cols = X_train.select_dtypes(include=['int64', 'float64']).columns\n",
    "categorical_cols = X_train.select_dtypes(include=['object', 'bool']).columns\n",
    "\n",
    "numerical_transformer = StandardScaler()\n",
    "categorical_transformer = OneHotEncoder()\n",
    "\n",
    "preprocessor = ColumnTransformer(\n",
    "    transformers=[\n",
    "        ('num', numerical_transformer, numerical_cols),\n",
    "        ('cat', categorical_transformer, categorical_cols)\n",
    "    ])\n",
    "\n",
    "# Fitting the ColumnTransformer to the training data\n",
    "X_train = preprocessor.fit_transform(X_train)\n",
    "X_test = preprocessor.transform(X_test)\n",
    "\n",
    "\n"
   ]
  },
  {
   "cell_type": "markdown",
   "metadata": {},
   "source": [
    "## Ensemble Learning Models\n",
    "\n",
    "We will now apply various ensemble learning models to our preprocessed data.\n"
   ]
  },
  {
   "cell_type": "code",
   "execution_count": 24,
   "metadata": {},
   "outputs": [
    {
     "data": {
      "text/html": [
       "<style>#sk-container-id-1 {color: black;background-color: white;}#sk-container-id-1 pre{padding: 0;}#sk-container-id-1 div.sk-toggleable {background-color: white;}#sk-container-id-1 label.sk-toggleable__label {cursor: pointer;display: block;width: 100%;margin-bottom: 0;padding: 0.3em;box-sizing: border-box;text-align: center;}#sk-container-id-1 label.sk-toggleable__label-arrow:before {content: \"▸\";float: left;margin-right: 0.25em;color: #696969;}#sk-container-id-1 label.sk-toggleable__label-arrow:hover:before {color: black;}#sk-container-id-1 div.sk-estimator:hover label.sk-toggleable__label-arrow:before {color: black;}#sk-container-id-1 div.sk-toggleable__content {max-height: 0;max-width: 0;overflow: hidden;text-align: left;background-color: #f0f8ff;}#sk-container-id-1 div.sk-toggleable__content pre {margin: 0.2em;color: black;border-radius: 0.25em;background-color: #f0f8ff;}#sk-container-id-1 input.sk-toggleable__control:checked~div.sk-toggleable__content {max-height: 200px;max-width: 100%;overflow: auto;}#sk-container-id-1 input.sk-toggleable__control:checked~label.sk-toggleable__label-arrow:before {content: \"▾\";}#sk-container-id-1 div.sk-estimator input.sk-toggleable__control:checked~label.sk-toggleable__label {background-color: #d4ebff;}#sk-container-id-1 div.sk-label input.sk-toggleable__control:checked~label.sk-toggleable__label {background-color: #d4ebff;}#sk-container-id-1 input.sk-hidden--visually {border: 0;clip: rect(1px 1px 1px 1px);clip: rect(1px, 1px, 1px, 1px);height: 1px;margin: -1px;overflow: hidden;padding: 0;position: absolute;width: 1px;}#sk-container-id-1 div.sk-estimator {font-family: monospace;background-color: #f0f8ff;border: 1px dotted black;border-radius: 0.25em;box-sizing: border-box;margin-bottom: 0.5em;}#sk-container-id-1 div.sk-estimator:hover {background-color: #d4ebff;}#sk-container-id-1 div.sk-parallel-item::after {content: \"\";width: 100%;border-bottom: 1px solid gray;flex-grow: 1;}#sk-container-id-1 div.sk-label:hover label.sk-toggleable__label {background-color: #d4ebff;}#sk-container-id-1 div.sk-serial::before {content: \"\";position: absolute;border-left: 1px solid gray;box-sizing: border-box;top: 0;bottom: 0;left: 50%;z-index: 0;}#sk-container-id-1 div.sk-serial {display: flex;flex-direction: column;align-items: center;background-color: white;padding-right: 0.2em;padding-left: 0.2em;position: relative;}#sk-container-id-1 div.sk-item {position: relative;z-index: 1;}#sk-container-id-1 div.sk-parallel {display: flex;align-items: stretch;justify-content: center;background-color: white;position: relative;}#sk-container-id-1 div.sk-item::before, #sk-container-id-1 div.sk-parallel-item::before {content: \"\";position: absolute;border-left: 1px solid gray;box-sizing: border-box;top: 0;bottom: 0;left: 50%;z-index: -1;}#sk-container-id-1 div.sk-parallel-item {display: flex;flex-direction: column;z-index: 1;position: relative;background-color: white;}#sk-container-id-1 div.sk-parallel-item:first-child::after {align-self: flex-end;width: 50%;}#sk-container-id-1 div.sk-parallel-item:last-child::after {align-self: flex-start;width: 50%;}#sk-container-id-1 div.sk-parallel-item:only-child::after {width: 0;}#sk-container-id-1 div.sk-dashed-wrapped {border: 1px dashed gray;margin: 0 0.4em 0.5em 0.4em;box-sizing: border-box;padding-bottom: 0.4em;background-color: white;}#sk-container-id-1 div.sk-label label {font-family: monospace;font-weight: bold;display: inline-block;line-height: 1.2em;}#sk-container-id-1 div.sk-label-container {text-align: center;}#sk-container-id-1 div.sk-container {/* jupyter's `normalize.less` sets `[hidden] { display: none; }` but bootstrap.min.css set `[hidden] { display: none !important; }` so we also need the `!important` here to be able to override the default hidden behavior on the sphinx rendered scikit-learn.org. See: https://github.com/scikit-learn/scikit-learn/issues/21755 */display: inline-block !important;position: relative;}#sk-container-id-1 div.sk-text-repr-fallback {display: none;}</style><div id=\"sk-container-id-1\" class=\"sk-top-container\"><div class=\"sk-text-repr-fallback\"><pre>StackingClassifier(estimators=[(&#x27;rf&#x27;,\n",
       "                                RandomForestClassifier(n_estimators=10,\n",
       "                                                       random_state=42)),\n",
       "                               (&#x27;ada&#x27;,\n",
       "                                AdaBoostClassifier(n_estimators=10,\n",
       "                                                   random_state=42))],\n",
       "                   final_estimator=LogisticRegression())</pre><b>In a Jupyter environment, please rerun this cell to show the HTML representation or trust the notebook. <br />On GitHub, the HTML representation is unable to render, please try loading this page with nbviewer.org.</b></div><div class=\"sk-container\" hidden><div class=\"sk-item sk-dashed-wrapped\"><div class=\"sk-label-container\"><div class=\"sk-label sk-toggleable\"><input class=\"sk-toggleable__control sk-hidden--visually\" id=\"sk-estimator-id-1\" type=\"checkbox\" ><label for=\"sk-estimator-id-1\" class=\"sk-toggleable__label sk-toggleable__label-arrow\">StackingClassifier</label><div class=\"sk-toggleable__content\"><pre>StackingClassifier(estimators=[(&#x27;rf&#x27;,\n",
       "                                RandomForestClassifier(n_estimators=10,\n",
       "                                                       random_state=42)),\n",
       "                               (&#x27;ada&#x27;,\n",
       "                                AdaBoostClassifier(n_estimators=10,\n",
       "                                                   random_state=42))],\n",
       "                   final_estimator=LogisticRegression())</pre></div></div></div><div class=\"sk-serial\"><div class=\"sk-item\"><div class=\"sk-parallel\"><div class=\"sk-parallel-item\"><div class=\"sk-item\"><div class=\"sk-label-container\"><div class=\"sk-label sk-toggleable\"><label>rf</label></div></div><div class=\"sk-serial\"><div class=\"sk-item\"><div class=\"sk-estimator sk-toggleable\"><input class=\"sk-toggleable__control sk-hidden--visually\" id=\"sk-estimator-id-2\" type=\"checkbox\" ><label for=\"sk-estimator-id-2\" class=\"sk-toggleable__label sk-toggleable__label-arrow\">RandomForestClassifier</label><div class=\"sk-toggleable__content\"><pre>RandomForestClassifier(n_estimators=10, random_state=42)</pre></div></div></div></div></div></div><div class=\"sk-parallel-item\"><div class=\"sk-item\"><div class=\"sk-label-container\"><div class=\"sk-label sk-toggleable\"><label>ada</label></div></div><div class=\"sk-serial\"><div class=\"sk-item\"><div class=\"sk-estimator sk-toggleable\"><input class=\"sk-toggleable__control sk-hidden--visually\" id=\"sk-estimator-id-3\" type=\"checkbox\" ><label for=\"sk-estimator-id-3\" class=\"sk-toggleable__label sk-toggleable__label-arrow\">AdaBoostClassifier</label><div class=\"sk-toggleable__content\"><pre>AdaBoostClassifier(n_estimators=10, random_state=42)</pre></div></div></div></div></div></div></div></div><div class=\"sk-item\"><div class=\"sk-parallel\"><div class=\"sk-parallel-item\"><div class=\"sk-item\"><div class=\"sk-label-container\"><div class=\"sk-label sk-toggleable\"><label>final_estimator</label></div></div><div class=\"sk-serial\"><div class=\"sk-item\"><div class=\"sk-estimator sk-toggleable\"><input class=\"sk-toggleable__control sk-hidden--visually\" id=\"sk-estimator-id-4\" type=\"checkbox\" ><label for=\"sk-estimator-id-4\" class=\"sk-toggleable__label sk-toggleable__label-arrow\">LogisticRegression</label><div class=\"sk-toggleable__content\"><pre>LogisticRegression()</pre></div></div></div></div></div></div></div></div></div></div></div></div>"
      ],
      "text/plain": [
       "StackingClassifier(estimators=[('rf',\n",
       "                                RandomForestClassifier(n_estimators=10,\n",
       "                                                       random_state=42)),\n",
       "                               ('ada',\n",
       "                                AdaBoostClassifier(n_estimators=10,\n",
       "                                                   random_state=42))],\n",
       "                   final_estimator=LogisticRegression())"
      ]
     },
     "execution_count": 24,
     "metadata": {},
     "output_type": "execute_result"
    }
   ],
   "source": [
    "# Random Forest Classifier\n",
    "rf_model = RandomForestClassifier(n_estimators=100, random_state=42)\n",
    "rf_model.fit(X_train, y_train)\n",
    "\n",
    "# AdaBoost Classifier\n",
    "ada_model = AdaBoostClassifier(n_estimators=100, random_state=42)\n",
    "ada_model.fit(X_train, y_train)\n",
    "\n",
    "# Gradient Boosting Classifier\n",
    "gb_model = GradientBoostingClassifier(n_estimators=100, random_state=42)\n",
    "gb_model.fit(X_train, y_train)\n",
    "\n",
    "# Stacking Classifier\n",
    "estimators = [\n",
    "    ('rf', RandomForestClassifier(n_estimators=10, random_state=42)),\n",
    "    ('ada', AdaBoostClassifier(n_estimators=10, random_state=42))\n",
    "]\n",
    "stack_model = StackingClassifier(estimators=estimators, final_estimator=LogisticRegression())\n",
    "stack_model.fit(X_train, y_train)\n"
   ]
  },
  {
   "cell_type": "markdown",
   "metadata": {},
   "source": [
    "## Model Evaluation\n",
    "\n",
    "It's time to evaluate the performance of our ensemble models on the test set.\n"
   ]
  },
  {
   "cell_type": "code",
   "execution_count": 25,
   "metadata": {},
   "outputs": [
    {
     "name": "stdout",
     "output_type": "stream",
     "text": [
      "Random Forest Performance:\n",
      "Model Evaluation Metrics:\n",
      "Accuracy: 0.9055623133915736\n",
      "Confusion Matrix:\n",
      " [[7738  214]\n",
      " [ 640  451]]\n",
      "Classification Report:\n",
      "               precision    recall  f1-score   support\n",
      "\n",
      "           0       0.92      0.97      0.95      7952\n",
      "           1       0.68      0.41      0.51      1091\n",
      "\n",
      "    accuracy                           0.91      9043\n",
      "   macro avg       0.80      0.69      0.73      9043\n",
      "weighted avg       0.89      0.91      0.90      9043\n",
      "\n",
      "=====================================================\n",
      "\n",
      "AdaBoost Performance:\n",
      "Model Evaluation Metrics:\n",
      "Accuracy: 0.9006966714585868\n",
      "Confusion Matrix:\n",
      " [[7726  226]\n",
      " [ 672  419]]\n",
      "Classification Report:\n",
      "               precision    recall  f1-score   support\n",
      "\n",
      "           0       0.92      0.97      0.95      7952\n",
      "           1       0.65      0.38      0.48      1091\n",
      "\n",
      "    accuracy                           0.90      9043\n",
      "   macro avg       0.78      0.68      0.71      9043\n",
      "weighted avg       0.89      0.90      0.89      9043\n",
      "\n",
      "=====================================================\n",
      "\n",
      "Gradient Boosting Performance:\n",
      "Model Evaluation Metrics:\n",
      "Accuracy: 0.9033506579674887\n",
      "Confusion Matrix:\n",
      " [[7711  241]\n",
      " [ 633  458]]\n",
      "Classification Report:\n",
      "               precision    recall  f1-score   support\n",
      "\n",
      "           0       0.92      0.97      0.95      7952\n",
      "           1       0.66      0.42      0.51      1091\n",
      "\n",
      "    accuracy                           0.90      9043\n",
      "   macro avg       0.79      0.69      0.73      9043\n",
      "weighted avg       0.89      0.90      0.89      9043\n",
      "\n",
      "=====================================================\n",
      "\n",
      "Stacking Performance:\n",
      "Model Evaluation Metrics:\n",
      "Accuracy: 0.8993696782041358\n",
      "Confusion Matrix:\n",
      " [[7707  245]\n",
      " [ 665  426]]\n",
      "Classification Report:\n",
      "               precision    recall  f1-score   support\n",
      "\n",
      "           0       0.92      0.97      0.94      7952\n",
      "           1       0.63      0.39      0.48      1091\n",
      "\n",
      "    accuracy                           0.90      9043\n",
      "   macro avg       0.78      0.68      0.71      9043\n",
      "weighted avg       0.89      0.90      0.89      9043\n",
      "\n",
      "=====================================================\n",
      "\n"
     ]
    }
   ],
   "source": [
    "# Function to evaluate models\n",
    "def evaluate_model(model, X_test, y_test):\n",
    "    y_pred = model.predict(X_test)\n",
    "    print(\"Model Evaluation Metrics:\")\n",
    "    print(\"Accuracy:\", accuracy_score(y_test, y_pred))\n",
    "    print(\"Confusion Matrix:\\n\", confusion_matrix(y_test, y_pred))\n",
    "    print(\"Classification Report:\\n\", classification_report(y_test, y_pred))\n",
    "    print(\"=====================================================\\n\")\n",
    "\n",
    "# Evaluate each model\n",
    "print(\"Random Forest Performance:\")\n",
    "evaluate_model(rf_model, X_test, y_test)\n",
    "\n",
    "print(\"AdaBoost Performance:\")\n",
    "evaluate_model(ada_model, X_test, y_test)\n",
    "\n",
    "print(\"Gradient Boosting Performance:\")\n",
    "evaluate_model(gb_model, X_test, y_test)\n",
    "\n",
    "print(\"Stacking Performance:\")\n",
    "evaluate_model(stack_model, X_test, y_test)\n"
   ]
  },
  {
   "cell_type": "markdown",
   "metadata": {},
   "source": [
    "# Ensemble Models Performance Summary\n",
    "\n",
    "The ensemble models were evaluated on their ability to predict customer subscription to term deposits in a bank marketing dataset. Below is a summary of their performance:\n",
    "\n",
    "## Random Forest\n",
    "- **Accuracy**: 90.56%\n",
    "- High precision (92%) for non-subscribers indicates reliable negative predictions.\n",
    "- Lower recall (41%) for subscribers points to missing a significant number of actual positive cases.\n",
    "- The f1-score for subscribers (0.51) suggests room for improvement, particularly in recall.\n",
    "\n",
    "## AdaBoost\n",
    "- **Accuracy**: 90.07%\n",
    "- Exhibited slightly lower accuracy than Random Forest.\n",
    "- Showed consistent precision and recall figures for predicting non-subscribers but underperformed for subscribers, similar to Random Forest.\n",
    "\n",
    "## Gradient Boosting\n",
    "- **Accuracy**: 90.34%\n",
    "- Slight improvement in accuracy compared to AdaBoost.\n",
    "- Precision and recall for subscribers were marginally better than AdaBoost, indicating a slight increase in identifying actual subscribers.\n",
    "\n",
    "## Stacking\n",
    "- **Accuracy**: 89.94%\n",
    "- Performed comparably with AdaBoost and Gradient Boosting in terms of precision and recall.\n",
    "- Slightly lower accuracy suggests that the combination of base learners did not outperform individual models like Random Forest.\n",
    "\n",
    "## Observations Across Models\n",
    "- All models performed well in identifying non-subscribers but struggled to correctly predict actual subscribers.\n",
    "- The f1-scores for the subscriber class across all models indicate that none of the models could capture the minority class effectively, which is a common challenge in imbalanced datasets.\n",
    "\n",
    "## Conclusion\n",
    "While the accuracy is high across the board, the ensemble models' ability to detect the positive class (subscribers) is an area that requires improvement. Considering the imbalance in the dataset, techniques such as oversampling the minority class or using specialized ensemble methods for imbalance might enhance the recall for the subscriber class.\n"
   ]
  },
  {
   "cell_type": "markdown",
   "metadata": {},
   "source": [
    "## Actual vs Predicted Values Visualization\n",
    "\n",
    "The bar chart below compares the actual and predicted values for the Random Forest model's ability to predict subscriptions to term deposits. Each class's count reflects the number of instances the model has predicted versus the true labels.\n",
    "\n",
    "- **Blue Bars**: Indicate the actual number of instances for each class in the test set.\n",
    "- **Orange Bars**: Indicate the predicted number of instances for each class.\n",
    "\n",
    "This visualization is crucial to understand the model's performance in terms of false positives and false negatives, especially in a dataset where the classes may be imbalanced. If the bars for the positive class (Subscriber) show a marked difference, it might suggest the model is not as sensitive to detecting the minority class, which is a common issue in imbalanced datasets.\n"
   ]
  },
  {
   "cell_type": "code",
   "execution_count": 28,
   "metadata": {},
   "outputs": [
    {
     "data": {
      "image/png": "[encoded data removed]",
      "text/plain": [
       "<Figure size 640x480 with 1 Axes>"
      ]
     },
     "metadata": {},
     "output_type": "display_data"
    }
   ],
   "source": [
    "import matplotlib.pyplot as plt\n",
    "import seaborn as sns\n",
    "\n",
    "# Convert to pandas Series for convenience\n",
    "y_pred = rf_model.predict(X_test)\n",
    "y_test_series = pd.Series(y_test, name=\"Actual\")\n",
    "y_pred_series = pd.Series(y_pred, name=\"Predicted\")\n",
    "\n",
    "# Combine actual and predicted values into a DataFrame\n",
    "df_actual_vs_predicted = pd.concat([y_test_series.reset_index(drop=True), \n",
    "                                    y_pred_series.reset_index(drop=True)], \n",
    "                                    axis=1)\n",
    "\n",
    "# Calculate the value counts for actual and predicted\n",
    "actual_counts = df_actual_vs_predicted['Actual'].value_counts().sort_index()\n",
    "predicted_counts = df_actual_vs_predicted['Predicted'].value_counts().sort_index()\n",
    "\n",
    "# Plotting\n",
    "fig, ax = plt.subplots()\n",
    "actual_counts.plot(kind='bar', color='blue', alpha=0.6, position=0, width=0.4, label='Actual', ax=ax)\n",
    "predicted_counts.plot(kind='bar', color='orange', alpha=0.6, position=1, width=0.4, label='Predicted', ax=ax)\n",
    "\n",
    "# Setting labels and titles\n",
    "ax.set_xlabel('Classes')\n",
    "ax.set_ylabel('Counts')\n",
    "ax.set_title('Actual vs Predicted Values in Random Forest Model')\n",
    "ax.set_xticks([0, 1])\n",
    "ax.set_xticklabels(['Non-Subscriber', 'Subscriber'])\n",
    "plt.legend()\n",
    "plt.show()\n"
   ]
  },
  {
   "cell_type": "markdown",
   "metadata": {},
   "source": [
    "## Actual vs Predicted Counts Analysis\n",
    "\n",
    "The bar chart presents a comparison between the actual and predicted values generated by the Random Forest model:\n",
    "\n",
    "- **Non-Subscriber Class (0)**:\n",
    "  - The model has almost equal counts of actual and predicted values, indicating a high performance in identifying non-subscribers correctly.\n",
    "  \n",
    "- **Subscriber Class (1)**:\n",
    "  - There is a notable difference between the actual and predicted counts for subscribers, with the predicted count being significantly lower.\n",
    "  - This suggests that the model is conservative in predicting the positive class and might be prone to type II errors (false negatives), where actual subscribers are not being identified.\n",
    "\n",
    "### Key Takeaways:\n",
    "- The model is robust in predicting non-subscribers but could be improved in terms of sensitivity towards the subscriber class.\n",
    "- Efforts to enhance model performance could include addressing class imbalance, feature engineering to highlight characteristics of subscribers, or tuning the model's hyperparameters to reduce the bias toward the majority class.\n"
   ]
  }
 ],
 "metadata": {
  "kernelspec": {
   "display_name": "base",
   "language": "python",
   "name": "python3"
  },
  "language_info": {
   "codemirror_mode": {
    "name": "ipython",
    "version": 3
   },
   "file_extension": ".py",
   "mimetype": "text/x-python",
   "name": "python",
   "nbconvert_exporter": "python",
   "pygments_lexer": "ipython3",
   "version": "3.10.9"
  }
 },
 "nbformat": 4,
 "nbformat_minor": 2
}
