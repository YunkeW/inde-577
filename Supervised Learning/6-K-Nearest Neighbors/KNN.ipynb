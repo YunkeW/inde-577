{
 "cells": [
  {
   "cell_type": "markdown",
   "metadata": {},
   "source": [
    "# k-Nearest Neighbors (KNN) Algorithm\n",
    "\n",
    "KNN is a simple, yet powerful supervised machine learning algorithm used for both classification and regression tasks. It operates on the principle that similar data points are often in close proximity.\n",
    "\n",
    "## How KNN Works:\n",
    "- **Classification**: A data point is classified by a majority vote of its neighbors, with the data point being assigned to the class most common among its k nearest neighbors.\n",
    "- **Regression**: It uses the average of the k nearest neighbors, or a weighted average if distance weighting is used, to predict a value.\n",
    "\n",
    "## Key Characteristics:\n",
    "- **Non-parametric**: KNN makes no assumptions about the underlying data distribution.\n",
    "- **Instance-based**: It memorizes the training instances which are used as the \"knowledge base\" for prediction phase.\n",
    "\n",
    "## Pros:\n",
    "- **Simplicity**: Easy to implement and understand.\n",
    "- **Versatility**: Effective for both classification and regression.\n",
    "- **No Training Phase**: Since it's an instance-based learning, there's no explicit training phase.\n",
    "\n",
    "## Cons:\n",
    "- **Scalability**: Slows significantly as the size of data increases.\n",
    "- **Curse of Dimensionality**: Performance degrades with high dimensional data.\n",
    "- **Sensitive to Irrelevant Features**: Requires feature selection to avoid performance reduction due to noisy features.\n",
    "\n",
    "KNN is widely used in applications ranging from recommendation systems to pattern recognition due to its simplicity and ease of implementation.\n"
   ]
  },
  {
   "cell_type": "markdown",
   "metadata": {},
   "source": [
    "# k-Nearest Neighbors (k-NN) Algorithm with the Wine Dataset\n",
    "\n",
    "This notebook explores the application of the k-Nearest Neighbors (k-NN) algorithm on the Wine dataset. The k-NN algorithm is a simple, easy-to-implement supervised machine learning algorithm that can be used for both classification and regression tasks, but here it will be used to classify wines into one of three possible cultivar classes.\n"
   ]
  },
  {
   "cell_type": "code",
   "execution_count": 1,
   "metadata": {},
   "outputs": [],
   "source": [
    "import pandas as pd\n",
    "import numpy as np\n",
    "from sklearn.model_selection import train_test_split\n",
    "from sklearn.preprocessing import StandardScaler\n",
    "from sklearn.neighbors import KNeighborsClassifier\n",
    "from sklearn.metrics import classification_report, confusion_matrix, accuracy_score\n",
    "import matplotlib.pyplot as plt\n",
    "import seaborn as sns\n",
    "from sklearn.datasets import load_wine"
   ]
  },
  {
   "cell_type": "code",
   "execution_count": 6,
   "metadata": {},
   "outputs": [
    {
     "name": "stdout",
     "output_type": "stream",
     "text": [
      "<class 'pandas.core.frame.DataFrame'>\n",
      "RangeIndex: 178 entries, 0 to 177\n",
      "Data columns (total 14 columns):\n",
      " #   Column                        Non-Null Count  Dtype  \n",
      "---  ------                        --------------  -----  \n",
      " 0   alcohol                       178 non-null    float64\n",
      " 1   malic_acid                    178 non-null    float64\n",
      " 2   ash                           178 non-null    float64\n",
      " 3   alcalinity_of_ash             178 non-null    float64\n",
      " 4   magnesium                     178 non-null    float64\n",
      " 5   total_phenols                 178 non-null    float64\n",
      " 6   flavanoids                    178 non-null    float64\n",
      " 7   nonflavanoid_phenols          178 non-null    float64\n",
      " 8   proanthocyanins               178 non-null    float64\n",
      " 9   color_intensity               178 non-null    float64\n",
      " 10  hue                           178 non-null    float64\n",
      " 11  od280/od315_of_diluted_wines  178 non-null    float64\n",
      " 12  proline                       178 non-null    float64\n",
      " 13  target                        178 non-null    int32  \n",
      "dtypes: float64(13), int32(1)\n",
      "memory usage: 18.9 KB\n"
     ]
    }
   ],
   "source": [
    "# Load the dataset\n",
    "data = load_wine()\n",
    "wine_df = pd.DataFrame(data.data, columns=data.feature_names)\n",
    "wine_df['target'] = data.target\n",
    "\n",
    "# Display basic info and the first few rows\n",
    "wine_df.info()\n"
   ]
  },
  {
   "cell_type": "code",
   "execution_count": 7,
   "metadata": {},
   "outputs": [
    {
     "data": {
      "text/html": [
       "<div>\n",
       "<style scoped>\n",
       "    .dataframe tbody tr th:only-of-type {\n",
       "        vertical-align: middle;\n",
       "    }\n",
       "\n",
       "    .dataframe tbody tr th {\n",
       "        vertical-align: top;\n",
       "    }\n",
       "\n",
       "    .dataframe thead th {\n",
       "        text-align: right;\n",
       "    }\n",
       "</style>\n",
       "<table border=\"1\" class=\"dataframe\">\n",
       "  <thead>\n",
       "    <tr style=\"text-align: right;\">\n",
       "      <th></th>\n",
       "      <th>alcohol</th>\n",
       "      <th>malic_acid</th>\n",
       "      <th>ash</th>\n",
       "      <th>alcalinity_of_ash</th>\n",
       "      <th>magnesium</th>\n",
       "      <th>total_phenols</th>\n",
       "      <th>flavanoids</th>\n",
       "      <th>nonflavanoid_phenols</th>\n",
       "      <th>proanthocyanins</th>\n",
       "      <th>color_intensity</th>\n",
       "      <th>hue</th>\n",
       "      <th>od280/od315_of_diluted_wines</th>\n",
       "      <th>proline</th>\n",
       "      <th>target</th>\n",
       "    </tr>\n",
       "  </thead>\n",
       "  <tbody>\n",
       "    <tr>\n",
       "      <th>0</th>\n",
       "      <td>14.23</td>\n",
       "      <td>1.71</td>\n",
       "      <td>2.43</td>\n",
       "      <td>15.6</td>\n",
       "      <td>127.0</td>\n",
       "      <td>2.80</td>\n",
       "      <td>3.06</td>\n",
       "      <td>0.28</td>\n",
       "      <td>2.29</td>\n",
       "      <td>5.64</td>\n",
       "      <td>1.04</td>\n",
       "      <td>3.92</td>\n",
       "      <td>1065.0</td>\n",
       "      <td>0</td>\n",
       "    </tr>\n",
       "    <tr>\n",
       "      <th>1</th>\n",
       "      <td>13.20</td>\n",
       "      <td>1.78</td>\n",
       "      <td>2.14</td>\n",
       "      <td>11.2</td>\n",
       "      <td>100.0</td>\n",
       "      <td>2.65</td>\n",
       "      <td>2.76</td>\n",
       "      <td>0.26</td>\n",
       "      <td>1.28</td>\n",
       "      <td>4.38</td>\n",
       "      <td>1.05</td>\n",
       "      <td>3.40</td>\n",
       "      <td>1050.0</td>\n",
       "      <td>0</td>\n",
       "    </tr>\n",
       "    <tr>\n",
       "      <th>2</th>\n",
       "      <td>13.16</td>\n",
       "      <td>2.36</td>\n",
       "      <td>2.67</td>\n",
       "      <td>18.6</td>\n",
       "      <td>101.0</td>\n",
       "      <td>2.80</td>\n",
       "      <td>3.24</td>\n",
       "      <td>0.30</td>\n",
       "      <td>2.81</td>\n",
       "      <td>5.68</td>\n",
       "      <td>1.03</td>\n",
       "      <td>3.17</td>\n",
       "      <td>1185.0</td>\n",
       "      <td>0</td>\n",
       "    </tr>\n",
       "    <tr>\n",
       "      <th>3</th>\n",
       "      <td>14.37</td>\n",
       "      <td>1.95</td>\n",
       "      <td>2.50</td>\n",
       "      <td>16.8</td>\n",
       "      <td>113.0</td>\n",
       "      <td>3.85</td>\n",
       "      <td>3.49</td>\n",
       "      <td>0.24</td>\n",
       "      <td>2.18</td>\n",
       "      <td>7.80</td>\n",
       "      <td>0.86</td>\n",
       "      <td>3.45</td>\n",
       "      <td>1480.0</td>\n",
       "      <td>0</td>\n",
       "    </tr>\n",
       "    <tr>\n",
       "      <th>4</th>\n",
       "      <td>13.24</td>\n",
       "      <td>2.59</td>\n",
       "      <td>2.87</td>\n",
       "      <td>21.0</td>\n",
       "      <td>118.0</td>\n",
       "      <td>2.80</td>\n",
       "      <td>2.69</td>\n",
       "      <td>0.39</td>\n",
       "      <td>1.82</td>\n",
       "      <td>4.32</td>\n",
       "      <td>1.04</td>\n",
       "      <td>2.93</td>\n",
       "      <td>735.0</td>\n",
       "      <td>0</td>\n",
       "    </tr>\n",
       "  </tbody>\n",
       "</table>\n",
       "</div>"
      ],
      "text/plain": [
       "   alcohol  malic_acid   ash  alcalinity_of_ash  magnesium  total_phenols  \\\n",
       "0    14.23        1.71  2.43               15.6      127.0           2.80   \n",
       "1    13.20        1.78  2.14               11.2      100.0           2.65   \n",
       "2    13.16        2.36  2.67               18.6      101.0           2.80   \n",
       "3    14.37        1.95  2.50               16.8      113.0           3.85   \n",
       "4    13.24        2.59  2.87               21.0      118.0           2.80   \n",
       "\n",
       "   flavanoids  nonflavanoid_phenols  proanthocyanins  color_intensity   hue  \\\n",
       "0        3.06                  0.28             2.29             5.64  1.04   \n",
       "1        2.76                  0.26             1.28             4.38  1.05   \n",
       "2        3.24                  0.30             2.81             5.68  1.03   \n",
       "3        3.49                  0.24             2.18             7.80  0.86   \n",
       "4        2.69                  0.39             1.82             4.32  1.04   \n",
       "\n",
       "   od280/od315_of_diluted_wines  proline  target  \n",
       "0                          3.92   1065.0       0  \n",
       "1                          3.40   1050.0       0  \n",
       "2                          3.17   1185.0       0  \n",
       "3                          3.45   1480.0       0  \n",
       "4                          2.93    735.0       0  "
      ]
     },
     "execution_count": 7,
     "metadata": {},
     "output_type": "execute_result"
    }
   ],
   "source": [
    "wine_df.head()"
   ]
  },
  {
   "cell_type": "markdown",
   "metadata": {},
   "source": [
    "## Data Preprocessing\n",
    "\n",
    "To prepare the data for k-NN, we will standardize the feature set since k-NN is sensitive to the magnitude of features and operates based on distances.\n",
    "\n"
   ]
  },
  {
   "cell_type": "code",
   "execution_count": 8,
   "metadata": {},
   "outputs": [],
   "source": [
    "# Define the features and the target\n",
    "X = wine_df.drop('target', axis=1)\n",
    "y = wine_df['target']\n",
    "\n",
    "# Split the dataset into training and testing sets\n",
    "X_train, X_test, y_train, y_test = train_test_split(X, y, test_size=0.2, random_state=42)\n",
    "\n",
    "# Standardize the features\n",
    "scaler = StandardScaler()\n",
    "X_train_scaled = scaler.fit_transform(X_train)\n",
    "X_test_scaled = scaler.transform(X_test)\n"
   ]
  },
  {
   "cell_type": "markdown",
   "metadata": {},
   "source": [
    "## Training the k-NN Model\n",
    "\n",
    "We will train a k-NN model and find the best number of neighbors using a simple loop to compare accuracies.\n"
   ]
  },
  {
   "cell_type": "code",
   "execution_count": 9,
   "metadata": {},
   "outputs": [
    {
     "data": {
      "image/png": "[encoded data removed]",
      "text/plain": [
       "<Figure size 1000x600 with 1 Axes>"
      ]
     },
     "metadata": {},
     "output_type": "display_data"
    }
   ],
   "source": [
    "accuracies = []\n",
    "for k in range(1, 21):\n",
    "    knn = KNeighborsClassifier(n_neighbors=k)\n",
    "    knn.fit(X_train_scaled, y_train)\n",
    "    accuracies.append(knn.score(X_test_scaled, y_test))\n",
    "\n",
    "# Plotting the accuracies\n",
    "plt.figure(figsize=(10, 6))\n",
    "plt.plot(range(1, 21), accuracies, marker='o', linestyle='dashed', markersize=5, markerfacecolor='red')\n",
    "plt.title('Accuracy vs. K Value')\n",
    "plt.xlabel('Number of Neighbors: K')\n",
    "plt.ylabel('Accuracy')\n",
    "plt.show()\n"
   ]
  },
  {
   "cell_type": "markdown",
   "metadata": {},
   "source": [
    "## k-NN Accuracy vs. K Value Analysis\n",
    "\n",
    "The plot above illustrates the accuracy of the k-Nearest Neighbors (k-NN) algorithm on the Wine dataset as a function of K, the number of neighbors considered for voting.\n",
    "\n",
    "### Observations:\n",
    "- The accuracy is relatively stable across different K values.\n",
    "- A pattern of slight fluctuation is observed, with some peaks and troughs, indicating variance in accuracy with changes in K.\n",
    "- The accuracy reaches its peak and plateaus at several points, notably at K values of 10, 13, 16, 18, and 20.\n",
    "\n",
    "### Best K Value:\n",
    "- The highest accuracies are observed at K=10, K=13, K=16, K=18, and K=20, where the accuracy surpasses 97%.\n",
    "- To minimize complexity and potential overfitting, the lowest K among these—**K=10**—can be considered the optimal choice. It offers high accuracy while keeping the model simpler and more generalizable.\n",
    "\n",
    "Choosing K=10 strikes a balance between accuracy and model simplicity, making it the preferred choice for this dataset.\n"
   ]
  },
  {
   "cell_type": "markdown",
   "metadata": {},
   "source": [
    "## Model Evaluation\n",
    "\n",
    "Once the best K value is identified, we evaluate the model using various metrics.\n"
   ]
  },
  {
   "cell_type": "code",
   "execution_count": 10,
   "metadata": {},
   "outputs": [
    {
     "name": "stdout",
     "output_type": "stream",
     "text": [
      "Confusion Matrix:\n",
      " [[14  0  0]\n",
      " [ 1 13  0]\n",
      " [ 0  0  8]]\n",
      "Classification Report:\n",
      "               precision    recall  f1-score   support\n",
      "\n",
      "           0       0.93      1.00      0.97        14\n",
      "           1       1.00      0.93      0.96        14\n",
      "           2       1.00      1.00      1.00         8\n",
      "\n",
      "    accuracy                           0.97        36\n",
      "   macro avg       0.98      0.98      0.98        36\n",
      "weighted avg       0.97      0.97      0.97        36\n",
      "\n",
      "Accuracy:  0.9722222222222222\n"
     ]
    }
   ],
   "source": [
    "# The optimal k found is 10 based on previous step\n",
    "knn_optimal = KNeighborsClassifier(n_neighbors=10)\n",
    "knn_optimal.fit(X_train_scaled, y_train)\n",
    "y_pred = knn_optimal.predict(X_test_scaled)\n",
    "\n",
    "print(\"Confusion Matrix:\\n\", confusion_matrix(y_test, y_pred))\n",
    "print(\"Classification Report:\\n\", classification_report(y_test, y_pred))\n",
    "print(\"Accuracy: \", accuracy_score(y_test, y_pred))\n"
   ]
  },
  {
   "cell_type": "markdown",
   "metadata": {},
   "source": [
    "## k-NN Model Performance Analysis\n",
    "\n",
    "The k-Nearest Neighbors (k-NN) model was evaluated on the Wine dataset, and the performance metrics are as follows:\n",
    "\n",
    "### Confusion Matrix Insights:\n",
    "- The model successfully classified all instances of class 0 and class 2 with no errors.\n",
    "- There was a single misclassification in class 1, where one instance was predicted as class 0.\n",
    "\n",
    "### Classification Report Summary:\n",
    "- **Precision**: The model had no false positives for classes 1 and 2, and a slight imperfection for class 0 (0.93).\n",
    "- **Recall**: Class 0 and class 2 had perfect recall scores, whereas class 1 had a minor shortfall (0.93).\n",
    "- **F1-Score**: Reflecting the precision and recall scores, the f1-scores are near perfect across all classes, indicating a strong balance between precision and recall.\n",
    "\n",
    "### Overall Accuracy:\n",
    "- The model achieved a high overall accuracy of 97.22%, demonstrating its excellent capability to classify the wine instances correctly.\n",
    "\n",
    "### Conclusion:\n",
    "The k-NN model displayed impressive classification performance with almost all predictions being correct. The balance between precision and recall suggests that the model is well-tuned for this particular dataset. The single misclassification indicates a near-perfect fit without significant signs of overfitting.\n"
   ]
  }
 ],
 "metadata": {
  "kernelspec": {
   "display_name": "base",
   "language": "python",
   "name": "python3"
  },
  "language_info": {
   "codemirror_mode": {
    "name": "ipython",
    "version": 3
   },
   "file_extension": ".py",
   "mimetype": "text/x-python",
   "name": "python",
   "nbconvert_exporter": "python",
   "pygments_lexer": "ipython3",
   "version": "3.10.9"
  }
 },
 "nbformat": 4,
 "nbformat_minor": 2
}
